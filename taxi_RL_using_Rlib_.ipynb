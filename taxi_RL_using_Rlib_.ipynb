{
  "nbformat": 4,
  "nbformat_minor": 0,
  "metadata": {
    "colab": {
      "name": "taxi RL using Rlib .ipynb",
      "provenance": [],
      "collapsed_sections": [],
      "include_colab_link": true
    },
    "kernelspec": {
      "name": "python3",
      "display_name": "Python 3"
    },
    "language_info": {
      "name": "python"
    }
  },
  "cells": [
    {
      "cell_type": "markdown",
      "metadata": {
        "id": "view-in-github",
        "colab_type": "text"
      },
      "source": [
        "<a href=\"https://colab.research.google.com/github/OpenAIMP/XINN/blob/main/taxi_RL_using_Rlib_.ipynb\" target=\"_parent\"><img src=\"https://colab.research.google.com/assets/colab-badge.svg\" alt=\"Open In Colab\"/></a>"
      ]
    },
    {
      "cell_type": "markdown",
      "metadata": {
        "id": "jQEmpejUfQYd"
      },
      "source": [
        ""
      ]
    },
    {
      "cell_type": "code",
      "metadata": {
        "colab": {
          "base_uri": "https://localhost:8080/"
        },
        "id": "QxDdWIBufEdy",
        "outputId": "efec565e-d523-4160-bb65-c498dc131b01"
      },
      "source": [
        "pip install ray[rllib]"
      ],
      "execution_count": null,
      "outputs": [
        {
          "output_type": "stream",
          "name": "stdout",
          "text": [
            "Collecting ray[rllib]\n",
            "  Downloading ray-1.6.0-cp37-cp37m-manylinux2014_x86_64.whl (49.6 MB)\n",
            "\u001b[K     |████████████████████████████████| 49.6 MB 6.8 kB/s \n",
            "\u001b[?25hRequirement already satisfied: protobuf>=3.15.3 in /usr/local/lib/python3.7/dist-packages (from ray[rllib]) (3.17.3)\n",
            "Collecting redis>=3.5.0\n",
            "  Downloading redis-3.5.3-py2.py3-none-any.whl (72 kB)\n",
            "\u001b[K     |████████████████████████████████| 72 kB 522 kB/s \n",
            "\u001b[?25hRequirement already satisfied: click>=7.0 in /usr/local/lib/python3.7/dist-packages (from ray[rllib]) (7.1.2)\n",
            "Requirement already satisfied: attrs in /usr/local/lib/python3.7/dist-packages (from ray[rllib]) (21.2.0)\n",
            "Requirement already satisfied: numpy>=1.16 in /usr/local/lib/python3.7/dist-packages (from ray[rllib]) (1.19.5)\n",
            "Requirement already satisfied: pyyaml in /usr/local/lib/python3.7/dist-packages (from ray[rllib]) (3.13)\n",
            "Requirement already satisfied: filelock in /usr/local/lib/python3.7/dist-packages (from ray[rllib]) (3.0.12)\n",
            "Requirement already satisfied: grpcio>=1.28.1 in /usr/local/lib/python3.7/dist-packages (from ray[rllib]) (1.40.0)\n",
            "Requirement already satisfied: msgpack<2.0.0,>=1.0.0 in /usr/local/lib/python3.7/dist-packages (from ray[rllib]) (1.0.2)\n",
            "Requirement already satisfied: gym in /usr/local/lib/python3.7/dist-packages (from ray[rllib]) (0.17.3)\n",
            "Requirement already satisfied: dm-tree in /usr/local/lib/python3.7/dist-packages (from ray[rllib]) (0.1.6)\n",
            "Requirement already satisfied: pandas in /usr/local/lib/python3.7/dist-packages (from ray[rllib]) (1.1.5)\n",
            "Requirement already satisfied: tabulate in /usr/local/lib/python3.7/dist-packages (from ray[rllib]) (0.8.9)\n",
            "Collecting tensorboardX>=1.9\n",
            "  Downloading tensorboardX-2.4-py2.py3-none-any.whl (124 kB)\n",
            "\u001b[K     |████████████████████████████████| 124 kB 87.5 MB/s \n",
            "\u001b[?25hRequirement already satisfied: requests in /usr/local/lib/python3.7/dist-packages (from ray[rllib]) (2.23.0)\n",
            "Requirement already satisfied: matplotlib!=3.4.3 in /usr/local/lib/python3.7/dist-packages (from ray[rllib]) (3.2.2)\n",
            "Requirement already satisfied: scipy in /usr/local/lib/python3.7/dist-packages (from ray[rllib]) (1.4.1)\n",
            "Requirement already satisfied: scikit-image in /usr/local/lib/python3.7/dist-packages (from ray[rllib]) (0.16.2)\n",
            "Collecting lz4\n",
            "  Downloading lz4-3.1.3-cp37-cp37m-manylinux2010_x86_64.whl (1.8 MB)\n",
            "\u001b[K     |████████████████████████████████| 1.8 MB 34.3 MB/s \n",
            "\u001b[?25hRequirement already satisfied: six>=1.5.2 in /usr/local/lib/python3.7/dist-packages (from grpcio>=1.28.1->ray[rllib]) (1.15.0)\n",
            "Requirement already satisfied: cycler>=0.10 in /usr/local/lib/python3.7/dist-packages (from matplotlib!=3.4.3->ray[rllib]) (0.10.0)\n",
            "Requirement already satisfied: pyparsing!=2.0.4,!=2.1.2,!=2.1.6,>=2.0.1 in /usr/local/lib/python3.7/dist-packages (from matplotlib!=3.4.3->ray[rllib]) (2.4.7)\n",
            "Requirement already satisfied: kiwisolver>=1.0.1 in /usr/local/lib/python3.7/dist-packages (from matplotlib!=3.4.3->ray[rllib]) (1.3.2)\n",
            "Requirement already satisfied: python-dateutil>=2.1 in /usr/local/lib/python3.7/dist-packages (from matplotlib!=3.4.3->ray[rllib]) (2.8.2)\n",
            "Requirement already satisfied: cloudpickle<1.7.0,>=1.2.0 in /usr/local/lib/python3.7/dist-packages (from gym->ray[rllib]) (1.3.0)\n",
            "Requirement already satisfied: pyglet<=1.5.0,>=1.4.0 in /usr/local/lib/python3.7/dist-packages (from gym->ray[rllib]) (1.5.0)\n",
            "Requirement already satisfied: future in /usr/local/lib/python3.7/dist-packages (from pyglet<=1.5.0,>=1.4.0->gym->ray[rllib]) (0.16.0)\n",
            "Requirement already satisfied: pytz>=2017.2 in /usr/local/lib/python3.7/dist-packages (from pandas->ray[rllib]) (2018.9)\n",
            "Requirement already satisfied: urllib3!=1.25.0,!=1.25.1,<1.26,>=1.21.1 in /usr/local/lib/python3.7/dist-packages (from requests->ray[rllib]) (1.24.3)\n",
            "Requirement already satisfied: chardet<4,>=3.0.2 in /usr/local/lib/python3.7/dist-packages (from requests->ray[rllib]) (3.0.4)\n",
            "Requirement already satisfied: idna<3,>=2.5 in /usr/local/lib/python3.7/dist-packages (from requests->ray[rllib]) (2.10)\n",
            "Requirement already satisfied: certifi>=2017.4.17 in /usr/local/lib/python3.7/dist-packages (from requests->ray[rllib]) (2021.5.30)\n",
            "Requirement already satisfied: pillow>=4.3.0 in /usr/local/lib/python3.7/dist-packages (from scikit-image->ray[rllib]) (7.1.2)\n",
            "Requirement already satisfied: networkx>=2.0 in /usr/local/lib/python3.7/dist-packages (from scikit-image->ray[rllib]) (2.6.3)\n",
            "Requirement already satisfied: PyWavelets>=0.4.0 in /usr/local/lib/python3.7/dist-packages (from scikit-image->ray[rllib]) (1.1.1)\n",
            "Requirement already satisfied: imageio>=2.3.0 in /usr/local/lib/python3.7/dist-packages (from scikit-image->ray[rllib]) (2.4.1)\n",
            "Installing collected packages: redis, tensorboardX, ray, lz4\n",
            "Successfully installed lz4-3.1.3 ray-1.6.0 redis-3.5.3 tensorboardX-2.4\n"
          ]
        }
      ]
    },
    {
      "cell_type": "code",
      "metadata": {
        "colab": {
          "base_uri": "https://localhost:8080/"
        },
        "id": "vFQP-iZogA5T",
        "outputId": "09674b88-ffac-4e10-d544-a5354dbc50cf"
      },
      "source": [
        "pip install gym"
      ],
      "execution_count": null,
      "outputs": [
        {
          "output_type": "stream",
          "name": "stdout",
          "text": [
            "Requirement already satisfied: gym in /usr/local/lib/python3.7/dist-packages (0.17.3)\n",
            "Requirement already satisfied: scipy in /usr/local/lib/python3.7/dist-packages (from gym) (1.4.1)\n",
            "Requirement already satisfied: pyglet<=1.5.0,>=1.4.0 in /usr/local/lib/python3.7/dist-packages (from gym) (1.5.0)\n",
            "Requirement already satisfied: cloudpickle<1.7.0,>=1.2.0 in /usr/local/lib/python3.7/dist-packages (from gym) (1.3.0)\n",
            "Requirement already satisfied: numpy>=1.10.4 in /usr/local/lib/python3.7/dist-packages (from gym) (1.19.5)\n",
            "Requirement already satisfied: future in /usr/local/lib/python3.7/dist-packages (from pyglet<=1.5.0,>=1.4.0->gym) (0.16.0)\n"
          ]
        }
      ]
    },
    {
      "cell_type": "code",
      "metadata": {
        "colab": {
          "base_uri": "https://localhost:8080/"
        },
        "id": "QJcc-kN-f3Af",
        "outputId": "148ec7a7-c99e-485d-d592-8fefd1789998"
      },
      "source": [
        "pip install tensorflow"
      ],
      "execution_count": null,
      "outputs": [
        {
          "output_type": "stream",
          "name": "stdout",
          "text": [
            "Requirement already satisfied: tensorflow in /usr/local/lib/python3.7/dist-packages (2.6.0)\n",
            "Requirement already satisfied: wrapt~=1.12.1 in /usr/local/lib/python3.7/dist-packages (from tensorflow) (1.12.1)\n",
            "Requirement already satisfied: typing-extensions~=3.7.4 in /usr/local/lib/python3.7/dist-packages (from tensorflow) (3.7.4.3)\n",
            "Requirement already satisfied: grpcio<2.0,>=1.37.0 in /usr/local/lib/python3.7/dist-packages (from tensorflow) (1.40.0)\n",
            "Requirement already satisfied: keras~=2.6 in /usr/local/lib/python3.7/dist-packages (from tensorflow) (2.6.0)\n",
            "Requirement already satisfied: absl-py~=0.10 in /usr/local/lib/python3.7/dist-packages (from tensorflow) (0.12.0)\n",
            "Requirement already satisfied: flatbuffers~=1.12.0 in /usr/local/lib/python3.7/dist-packages (from tensorflow) (1.12)\n",
            "Requirement already satisfied: wheel~=0.35 in /usr/local/lib/python3.7/dist-packages (from tensorflow) (0.37.0)\n",
            "Requirement already satisfied: six~=1.15.0 in /usr/local/lib/python3.7/dist-packages (from tensorflow) (1.15.0)\n",
            "Requirement already satisfied: termcolor~=1.1.0 in /usr/local/lib/python3.7/dist-packages (from tensorflow) (1.1.0)\n",
            "Requirement already satisfied: gast==0.4.0 in /usr/local/lib/python3.7/dist-packages (from tensorflow) (0.4.0)\n",
            "Requirement already satisfied: tensorflow-estimator~=2.6 in /usr/local/lib/python3.7/dist-packages (from tensorflow) (2.6.0)\n",
            "Requirement already satisfied: protobuf>=3.9.2 in /usr/local/lib/python3.7/dist-packages (from tensorflow) (3.17.3)\n",
            "Requirement already satisfied: h5py~=3.1.0 in /usr/local/lib/python3.7/dist-packages (from tensorflow) (3.1.0)\n",
            "Requirement already satisfied: google-pasta~=0.2 in /usr/local/lib/python3.7/dist-packages (from tensorflow) (0.2.0)\n",
            "Requirement already satisfied: astunparse~=1.6.3 in /usr/local/lib/python3.7/dist-packages (from tensorflow) (1.6.3)\n",
            "Requirement already satisfied: tensorboard~=2.6 in /usr/local/lib/python3.7/dist-packages (from tensorflow) (2.6.0)\n",
            "Requirement already satisfied: numpy~=1.19.2 in /usr/local/lib/python3.7/dist-packages (from tensorflow) (1.19.5)\n",
            "Requirement already satisfied: opt-einsum~=3.3.0 in /usr/local/lib/python3.7/dist-packages (from tensorflow) (3.3.0)\n",
            "Requirement already satisfied: clang~=5.0 in /usr/local/lib/python3.7/dist-packages (from tensorflow) (5.0)\n",
            "Requirement already satisfied: keras-preprocessing~=1.1.2 in /usr/local/lib/python3.7/dist-packages (from tensorflow) (1.1.2)\n",
            "Requirement already satisfied: cached-property in /usr/local/lib/python3.7/dist-packages (from h5py~=3.1.0->tensorflow) (1.5.2)\n",
            "Requirement already satisfied: tensorboard-plugin-wit>=1.6.0 in /usr/local/lib/python3.7/dist-packages (from tensorboard~=2.6->tensorflow) (1.8.0)\n",
            "Requirement already satisfied: setuptools>=41.0.0 in /usr/local/lib/python3.7/dist-packages (from tensorboard~=2.6->tensorflow) (57.4.0)\n",
            "Requirement already satisfied: requests<3,>=2.21.0 in /usr/local/lib/python3.7/dist-packages (from tensorboard~=2.6->tensorflow) (2.23.0)\n",
            "Requirement already satisfied: tensorboard-data-server<0.7.0,>=0.6.0 in /usr/local/lib/python3.7/dist-packages (from tensorboard~=2.6->tensorflow) (0.6.1)\n",
            "Requirement already satisfied: google-auth<2,>=1.6.3 in /usr/local/lib/python3.7/dist-packages (from tensorboard~=2.6->tensorflow) (1.35.0)\n",
            "Requirement already satisfied: google-auth-oauthlib<0.5,>=0.4.1 in /usr/local/lib/python3.7/dist-packages (from tensorboard~=2.6->tensorflow) (0.4.6)\n",
            "Requirement already satisfied: werkzeug>=0.11.15 in /usr/local/lib/python3.7/dist-packages (from tensorboard~=2.6->tensorflow) (1.0.1)\n",
            "Requirement already satisfied: markdown>=2.6.8 in /usr/local/lib/python3.7/dist-packages (from tensorboard~=2.6->tensorflow) (3.3.4)\n",
            "Requirement already satisfied: rsa<5,>=3.1.4 in /usr/local/lib/python3.7/dist-packages (from google-auth<2,>=1.6.3->tensorboard~=2.6->tensorflow) (4.7.2)\n",
            "Requirement already satisfied: cachetools<5.0,>=2.0.0 in /usr/local/lib/python3.7/dist-packages (from google-auth<2,>=1.6.3->tensorboard~=2.6->tensorflow) (4.2.2)\n",
            "Requirement already satisfied: pyasn1-modules>=0.2.1 in /usr/local/lib/python3.7/dist-packages (from google-auth<2,>=1.6.3->tensorboard~=2.6->tensorflow) (0.2.8)\n",
            "Requirement already satisfied: requests-oauthlib>=0.7.0 in /usr/local/lib/python3.7/dist-packages (from google-auth-oauthlib<0.5,>=0.4.1->tensorboard~=2.6->tensorflow) (1.3.0)\n",
            "Requirement already satisfied: importlib-metadata in /usr/local/lib/python3.7/dist-packages (from markdown>=2.6.8->tensorboard~=2.6->tensorflow) (4.8.1)\n",
            "Requirement already satisfied: pyasn1<0.5.0,>=0.4.6 in /usr/local/lib/python3.7/dist-packages (from pyasn1-modules>=0.2.1->google-auth<2,>=1.6.3->tensorboard~=2.6->tensorflow) (0.4.8)\n",
            "Requirement already satisfied: certifi>=2017.4.17 in /usr/local/lib/python3.7/dist-packages (from requests<3,>=2.21.0->tensorboard~=2.6->tensorflow) (2021.5.30)\n",
            "Requirement already satisfied: urllib3!=1.25.0,!=1.25.1,<1.26,>=1.21.1 in /usr/local/lib/python3.7/dist-packages (from requests<3,>=2.21.0->tensorboard~=2.6->tensorflow) (1.24.3)\n",
            "Requirement already satisfied: chardet<4,>=3.0.2 in /usr/local/lib/python3.7/dist-packages (from requests<3,>=2.21.0->tensorboard~=2.6->tensorflow) (3.0.4)\n",
            "Requirement already satisfied: idna<3,>=2.5 in /usr/local/lib/python3.7/dist-packages (from requests<3,>=2.21.0->tensorboard~=2.6->tensorflow) (2.10)\n",
            "Requirement already satisfied: oauthlib>=3.0.0 in /usr/local/lib/python3.7/dist-packages (from requests-oauthlib>=0.7.0->google-auth-oauthlib<0.5,>=0.4.1->tensorboard~=2.6->tensorflow) (3.1.1)\n",
            "Requirement already satisfied: zipp>=0.5 in /usr/local/lib/python3.7/dist-packages (from importlib-metadata->markdown>=2.6.8->tensorboard~=2.6->tensorflow) (3.5.0)\n"
          ]
        }
      ]
    },
    {
      "cell_type": "code",
      "metadata": {
        "id": "sMpdsVUngGNm"
      },
      "source": [
        "import ray\n",
        "import ray.rllib.agents.ppo as ppo\n",
        "\n",
        "ray.shutdown()\n",
        "ray.init(ignore_reinit_error=True)\n"
      ],
      "execution_count": null,
      "outputs": []
    },
    {
      "cell_type": "code",
      "metadata": {
        "id": "61GKdmcupfAl"
      },
      "source": [
        "import shutil\n",
        "import os\n",
        "\n",
        "\n",
        "CHECKPOINT_ROOT = \"tmp/ppo/taxi\"\n",
        "shutil.rmtree(CHECKPOINT_ROOT, ignore_errors=True, onerror=None)\n",
        "\n",
        "ray_results = os.getenv(\"HOME\") + \"/ray_results/\"\n",
        "shutil.rmtree(ray_results, ignore_errors=True, onerror=None)"
      ],
      "execution_count": null,
      "outputs": []
    },
    {
      "cell_type": "code",
      "metadata": {
        "colab": {
          "base_uri": "https://localhost:8080/"
        },
        "id": "pVY0_BqfrZdB",
        "outputId": "540b6c75-5f6a-4a55-b9f7-e7e776bbe6b3"
      },
      "source": [
        "SELECT_ENV = \"Taxi-v3\"\n",
        "\n",
        "config = ppo.DEFAULT_CONFIG.copy()\n",
        "config[\"log_level\"] = \"WARN\"\n",
        "\n",
        "agent = ppo.PPOTrainer(config, env=SELECT_ENV)"
      ],
      "execution_count": null,
      "outputs": [
        {
          "output_type": "stream",
          "name": "stderr",
          "text": [
            "2021-09-28 09:13:22,918\tINFO trainer.py:714 -- Tip: set framework=tfe or the --eager flag to enable TensorFlow eager execution\n",
            "2021-09-28 09:13:22,919\tINFO ppo.py:159 -- In multi-agent mode, policies will be optimized sequentially by the multi-GPU optimizer. Consider setting simple_optimizer=True if this doesn't work for you.\n",
            "2021-09-28 09:13:22,920\tINFO trainer.py:728 -- Current log_level is WARN. For more information, set 'log_level': 'INFO' / 'DEBUG' or use the -v and -vv flags.\n",
            "2021-09-28 09:13:30,194\tWARNING util.py:55 -- Install gputil for GPU system monitoring.\n"
          ]
        }
      ]
    },
    {
      "cell_type": "code",
      "metadata": {
        "colab": {
          "base_uri": "https://localhost:8080/"
        },
        "id": "S4iIy_oyrlZR",
        "outputId": "78747d13-14cd-46c4-b8c1-475d1f66b496"
      },
      "source": [
        "N_ITER = 32\n",
        "s = \"{:3d} reward {:6.2f}/{:6.2f}/{:6.2f} len {:6.2f} saved {}\"\n",
        "\n",
        "for n in range(N_ITER):\n",
        "  result = agent.train()\n",
        "  file_name = agent.save(CHECKPOINT_ROOT)\n",
        "\n",
        "  print(s.format(\n",
        "    n + 1,\n",
        "    result[\"episode_reward_min\"],\n",
        "    result[\"episode_reward_mean\"],\n",
        "    result[\"episode_reward_max\"],\n",
        "    result[\"episode_len_mean\"],\n",
        "    file_name\n",
        "   ))"
      ],
      "execution_count": null,
      "outputs": [
        {
          "output_type": "stream",
          "name": "stdout",
          "text": [
            "  1 reward -209.00/-45.73/ 15.00 len  61.48 saved tmp/ppo/taxi/checkpoint_000126/checkpoint-126\n",
            "  2 reward -209.00/-50.69/ 13.00 len  65.69 saved tmp/ppo/taxi/checkpoint_000127/checkpoint-127\n",
            "  3 reward -200.00/-63.78/ 15.00 len  77.40 saved tmp/ppo/taxi/checkpoint_000128/checkpoint-128\n",
            "  4 reward -209.00/-59.63/ 15.00 len  73.85 saved tmp/ppo/taxi/checkpoint_000129/checkpoint-129\n",
            "  5 reward -218.00/-59.37/ 14.00 len  73.41 saved tmp/ppo/taxi/checkpoint_000130/checkpoint-130\n",
            "  6 reward -209.00/-44.66/ 14.00 len  60.35 saved tmp/ppo/taxi/checkpoint_000131/checkpoint-131\n",
            "  7 reward -200.00/-51.26/ 14.00 len  66.50 saved tmp/ppo/taxi/checkpoint_000132/checkpoint-132\n",
            "  8 reward -209.00/-67.93/ 12.00 len  81.31 saved tmp/ppo/taxi/checkpoint_000133/checkpoint-133\n",
            "  9 reward -209.00/-82.85/ 14.00 len  94.40 saved tmp/ppo/taxi/checkpoint_000134/checkpoint-134\n",
            " 10 reward -209.00/-71.45/ 14.00 len  83.96 saved tmp/ppo/taxi/checkpoint_000135/checkpoint-135\n",
            " 11 reward -209.00/-77.20/ 12.00 len  89.35 saved tmp/ppo/taxi/checkpoint_000136/checkpoint-136\n",
            " 12 reward -200.00/-75.03/ 12.00 len  87.75 saved tmp/ppo/taxi/checkpoint_000137/checkpoint-137\n",
            " 13 reward -209.00/-54.74/ 13.00 len  69.47 saved tmp/ppo/taxi/checkpoint_000138/checkpoint-138\n",
            " 14 reward -209.00/-45.94/ 13.00 len  61.60 saved tmp/ppo/taxi/checkpoint_000139/checkpoint-139\n",
            " 15 reward -209.00/-49.35/ 14.00 len  64.59 saved tmp/ppo/taxi/checkpoint_000140/checkpoint-140\n",
            " 16 reward -209.00/-41.51/ 15.00 len  57.59 saved tmp/ppo/taxi/checkpoint_000141/checkpoint-141\n",
            " 17 reward -218.00/-52.85/ 15.00 len  67.70 saved tmp/ppo/taxi/checkpoint_000142/checkpoint-142\n",
            " 18 reward -209.00/-52.03/ 15.00 len  66.97 saved tmp/ppo/taxi/checkpoint_000143/checkpoint-143\n",
            " 19 reward -209.00/-35.40/ 15.00 len  52.02 saved tmp/ppo/taxi/checkpoint_000144/checkpoint-144\n",
            " 20 reward -200.00/-46.77/ 13.00 len  61.47 saved tmp/ppo/taxi/checkpoint_000145/checkpoint-145\n",
            " 21 reward -209.00/-53.59/ 12.00 len  68.11 saved tmp/ppo/taxi/checkpoint_000146/checkpoint-146\n",
            " 22 reward -209.00/-51.52/ 11.00 len  66.82 saved tmp/ppo/taxi/checkpoint_000147/checkpoint-147\n",
            " 23 reward -200.00/-48.10/ 11.00 len  64.09 saved tmp/ppo/taxi/checkpoint_000148/checkpoint-148\n",
            " 24 reward -209.00/-43.78/ 13.00 len  60.07 saved tmp/ppo/taxi/checkpoint_000149/checkpoint-149\n",
            " 25 reward -218.00/-45.54/ 15.00 len  61.53 saved tmp/ppo/taxi/checkpoint_000150/checkpoint-150\n",
            " 26 reward -218.00/-58.74/ 15.00 len  72.93 saved tmp/ppo/taxi/checkpoint_000151/checkpoint-151\n",
            " 27 reward -209.00/-74.44/ 15.00 len  86.59 saved tmp/ppo/taxi/checkpoint_000152/checkpoint-152\n",
            " 28 reward -209.00/-60.45/ 11.00 len  74.61 saved tmp/ppo/taxi/checkpoint_000153/checkpoint-153\n",
            " 29 reward -209.00/-42.98/ 12.00 len  58.91 saved tmp/ppo/taxi/checkpoint_000154/checkpoint-154\n",
            " 30 reward -200.00/-45.94/ 14.00 len  61.81 saved tmp/ppo/taxi/checkpoint_000155/checkpoint-155\n",
            " 31 reward -209.00/-45.61/ 14.00 len  61.48 saved tmp/ppo/taxi/checkpoint_000156/checkpoint-156\n",
            " 32 reward -209.00/-33.41/ 13.00 len  50.36 saved tmp/ppo/taxi/checkpoint_000157/checkpoint-157\n",
            " 33 reward -209.00/-34.66/ 13.00 len  51.58 saved tmp/ppo/taxi/checkpoint_000158/checkpoint-158\n",
            " 34 reward -200.00/-56.54/ 12.00 len  71.24 saved tmp/ppo/taxi/checkpoint_000159/checkpoint-159\n",
            " 35 reward -200.00/-36.66/ 11.00 len  53.46 saved tmp/ppo/taxi/checkpoint_000160/checkpoint-160\n"
          ]
        }
      ]
    },
    {
      "cell_type": "code",
      "metadata": {
        "colab": {
          "base_uri": "https://localhost:8080/"
        },
        "id": "X4gkHb-5rlbD",
        "outputId": "707da0bf-a9d8-42e9-b93d-e24ad60c5e17"
      },
      "source": [
        "policy = agent.get_policy()\n",
        "model = policy.model\n",
        "print(model.base_model.summary())"
      ],
      "execution_count": null,
      "outputs": [
        {
          "output_type": "stream",
          "name": "stdout",
          "text": [
            "Model: \"model\"\n",
            "__________________________________________________________________________________________________\n",
            "Layer (type)                    Output Shape         Param #     Connected to                     \n",
            "==================================================================================================\n",
            "observations (InputLayer)       [(None, 500)]        0                                            \n",
            "__________________________________________________________________________________________________\n",
            "fc_1 (Dense)                    (None, 256)          128256      observations[0][0]               \n",
            "__________________________________________________________________________________________________\n",
            "fc_value_1 (Dense)              (None, 256)          128256      observations[0][0]               \n",
            "__________________________________________________________________________________________________\n",
            "fc_2 (Dense)                    (None, 256)          65792       fc_1[0][0]                       \n",
            "__________________________________________________________________________________________________\n",
            "fc_value_2 (Dense)              (None, 256)          65792       fc_value_1[0][0]                 \n",
            "__________________________________________________________________________________________________\n",
            "fc_out (Dense)                  (None, 6)            1542        fc_2[0][0]                       \n",
            "__________________________________________________________________________________________________\n",
            "value_out (Dense)               (None, 1)            257         fc_value_2[0][0]                 \n",
            "==================================================================================================\n",
            "Total params: 389,895\n",
            "Trainable params: 389,895\n",
            "Non-trainable params: 0\n",
            "__________________________________________________________________________________________________\n",
            "None\n"
          ]
        }
      ]
    }
  ]
}